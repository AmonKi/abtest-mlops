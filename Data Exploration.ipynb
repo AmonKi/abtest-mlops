{
 "cells": [
  {
   "cell_type": "markdown",
   "id": "9523731e-ca9b-4459-95a7-86c4992061c3",
   "metadata": {},
   "source": [
    "**Data Exploration**"
   ]
  },
  {
   "cell_type": "code",
   "execution_count": 1,
   "id": "59a4eca6-3344-40cb-923f-a32ca5e32989",
   "metadata": {},
   "outputs": [],
   "source": [
    "# importing the necessary libraries\n",
    "import pandas as pd\n",
    "import numpy as np\n",
    "import matplotlib.pyplot as plt\n",
    "import seaborn as sns"
   ]
  },
  {
   "cell_type": "markdown",
   "id": "cbde0dcf-6d2c-431f-81c1-31c7f1ee8072",
   "metadata": {},
   "source": [
    "**Reading the data**"
   ]
  },
  {
   "cell_type": "code",
   "execution_count": 2,
   "id": "8387e575-9c14-4dab-93d4-32cf59c6fb30",
   "metadata": {},
   "outputs": [
    {
     "data": {
      "text/html": [
       "<div>\n",
       "<style scoped>\n",
       "    .dataframe tbody tr th:only-of-type {\n",
       "        vertical-align: middle;\n",
       "    }\n",
       "\n",
       "    .dataframe tbody tr th {\n",
       "        vertical-align: top;\n",
       "    }\n",
       "\n",
       "    .dataframe thead th {\n",
       "        text-align: right;\n",
       "    }\n",
       "</style>\n",
       "<table border=\"1\" class=\"dataframe\">\n",
       "  <thead>\n",
       "    <tr style=\"text-align: right;\">\n",
       "      <th></th>\n",
       "      <th>auction_id</th>\n",
       "      <th>experiment</th>\n",
       "      <th>date</th>\n",
       "      <th>hour</th>\n",
       "      <th>device_make</th>\n",
       "      <th>platform_os</th>\n",
       "      <th>browser</th>\n",
       "      <th>yes</th>\n",
       "      <th>no</th>\n",
       "    </tr>\n",
       "  </thead>\n",
       "  <tbody>\n",
       "    <tr>\n",
       "      <th>0</th>\n",
       "      <td>0008ef63-77a7-448b-bd1e-075f42c55e39</td>\n",
       "      <td>exposed</td>\n",
       "      <td>2020-07-10</td>\n",
       "      <td>8</td>\n",
       "      <td>Generic Smartphone</td>\n",
       "      <td>6</td>\n",
       "      <td>Chrome Mobile</td>\n",
       "      <td>0</td>\n",
       "      <td>0</td>\n",
       "    </tr>\n",
       "    <tr>\n",
       "      <th>1</th>\n",
       "      <td>000eabc5-17ce-4137-8efe-44734d914446</td>\n",
       "      <td>exposed</td>\n",
       "      <td>2020-07-07</td>\n",
       "      <td>10</td>\n",
       "      <td>Generic Smartphone</td>\n",
       "      <td>6</td>\n",
       "      <td>Chrome Mobile</td>\n",
       "      <td>0</td>\n",
       "      <td>0</td>\n",
       "    </tr>\n",
       "    <tr>\n",
       "      <th>2</th>\n",
       "      <td>0016d14a-ae18-4a02-a204-6ba53b52f2ed</td>\n",
       "      <td>exposed</td>\n",
       "      <td>2020-07-05</td>\n",
       "      <td>2</td>\n",
       "      <td>E5823</td>\n",
       "      <td>6</td>\n",
       "      <td>Chrome Mobile WebView</td>\n",
       "      <td>0</td>\n",
       "      <td>1</td>\n",
       "    </tr>\n",
       "    <tr>\n",
       "      <th>3</th>\n",
       "      <td>00187412-2932-4542-a8ef-3633901c98d9</td>\n",
       "      <td>control</td>\n",
       "      <td>2020-07-03</td>\n",
       "      <td>15</td>\n",
       "      <td>Samsung SM-A705FN</td>\n",
       "      <td>6</td>\n",
       "      <td>Facebook</td>\n",
       "      <td>0</td>\n",
       "      <td>0</td>\n",
       "    </tr>\n",
       "    <tr>\n",
       "      <th>4</th>\n",
       "      <td>001a7785-d3fe-4e11-a344-c8735acacc2c</td>\n",
       "      <td>control</td>\n",
       "      <td>2020-07-03</td>\n",
       "      <td>15</td>\n",
       "      <td>Generic Smartphone</td>\n",
       "      <td>6</td>\n",
       "      <td>Chrome Mobile</td>\n",
       "      <td>0</td>\n",
       "      <td>0</td>\n",
       "    </tr>\n",
       "  </tbody>\n",
       "</table>\n",
       "</div>"
      ],
      "text/plain": [
       "                             auction_id experiment        date  hour  \\\n",
       "0  0008ef63-77a7-448b-bd1e-075f42c55e39    exposed  2020-07-10     8   \n",
       "1  000eabc5-17ce-4137-8efe-44734d914446    exposed  2020-07-07    10   \n",
       "2  0016d14a-ae18-4a02-a204-6ba53b52f2ed    exposed  2020-07-05     2   \n",
       "3  00187412-2932-4542-a8ef-3633901c98d9    control  2020-07-03    15   \n",
       "4  001a7785-d3fe-4e11-a344-c8735acacc2c    control  2020-07-03    15   \n",
       "\n",
       "          device_make  platform_os                browser  yes  no  \n",
       "0  Generic Smartphone            6          Chrome Mobile    0   0  \n",
       "1  Generic Smartphone            6          Chrome Mobile    0   0  \n",
       "2               E5823            6  Chrome Mobile WebView    0   1  \n",
       "3   Samsung SM-A705FN            6               Facebook    0   0  \n",
       "4  Generic Smartphone            6          Chrome Mobile    0   0  "
      ]
     },
     "execution_count": 2,
     "metadata": {},
     "output_type": "execute_result"
    }
   ],
   "source": [
    "df=pd.read_csv('AdSmartABdata.csv')\n",
    "df.head(5)"
   ]
  },
  {
   "cell_type": "markdown",
   "id": "eb080467-b940-4b47-937c-932586d9b604",
   "metadata": {},
   "source": [
    "**Establishing the number of rows and columns in the dataset**"
   ]
  },
  {
   "cell_type": "code",
   "execution_count": 3,
   "id": "a146f9a9-6371-467f-bfcb-768a32974ed2",
   "metadata": {},
   "outputs": [
    {
     "name": "stdout",
     "output_type": "stream",
     "text": [
      "(8077, 9)\n"
     ]
    }
   ],
   "source": [
    "# number of rows and columns\n",
    "print(df.shape)"
   ]
  },
  {
   "cell_type": "markdown",
   "id": "3a8a9bef-8bc2-45af-bb02-193c1b0f8f56",
   "metadata": {},
   "source": [
    "**List of all columns of the data**"
   ]
  },
  {
   "cell_type": "code",
   "execution_count": 4,
   "id": "e52bc5fb-d3db-4ba4-a8e6-b457d83714db",
   "metadata": {},
   "outputs": [
    {
     "data": {
      "text/plain": [
       "['auction_id',\n",
       " 'experiment',\n",
       " 'date',\n",
       " 'hour',\n",
       " 'device_make',\n",
       " 'platform_os',\n",
       " 'browser',\n",
       " 'yes',\n",
       " 'no']"
      ]
     },
     "execution_count": 4,
     "metadata": {},
     "output_type": "execute_result"
    }
   ],
   "source": [
    "# list of columns\n",
    "df.columns.tolist()"
   ]
  },
  {
   "cell_type": "markdown",
   "id": "8c0256be-e455-41a9-b356-24344a84a9ae",
   "metadata": {},
   "source": [
    "**Checking for the Missing Values**"
   ]
  },
  {
   "cell_type": "code",
   "execution_count": 5,
   "id": "12c45040-21b7-403c-8b62-d0b829f42517",
   "metadata": {},
   "outputs": [
    {
     "data": {
      "text/plain": [
       "auction_id     0\n",
       "experiment     0\n",
       "date           0\n",
       "hour           0\n",
       "device_make    0\n",
       "platform_os    0\n",
       "browser        0\n",
       "yes            0\n",
       "no             0\n",
       "dtype: int64"
      ]
     },
     "execution_count": 5,
     "metadata": {},
     "output_type": "execute_result"
    }
   ],
   "source": [
    "df.isna().sum()"
   ]
  },
  {
   "cell_type": "markdown",
   "id": "c8ee63ac-ef96-42ba-bc5d-3debaff090cd",
   "metadata": {},
   "source": [
    "**Finding the number of users that belong to control and exposed groups**"
   ]
  },
  {
   "cell_type": "code",
   "execution_count": 6,
   "id": "5587103e-59be-4b17-a786-7f8edb121e94",
   "metadata": {},
   "outputs": [
    {
     "data": {
      "text/plain": [
       "control    4071\n",
       "exposed    4006\n",
       "Name: experiment, dtype: int64"
      ]
     },
     "execution_count": 6,
     "metadata": {},
     "output_type": "execute_result"
    }
   ],
   "source": [
    "counts = df['experiment'].value_counts()\n",
    "counts"
   ]
  },
  {
   "cell_type": "markdown",
   "id": "05ab6929-1883-4a70-86b3-b1dfd4523012",
   "metadata": {},
   "source": [
    "**List of the days that data was collected with the number of users that saw the ad**"
   ]
  },
  {
   "cell_type": "code",
   "execution_count": 7,
   "id": "a2d0022a-cf01-48ed-8dd5-56315413a9d2",
   "metadata": {},
   "outputs": [
    {
     "data": {
      "text/plain": [
       "2020-07-03    2015\n",
       "2020-07-09    1208\n",
       "2020-07-08    1198\n",
       "2020-07-04     903\n",
       "2020-07-10     893\n",
       "2020-07-05     890\n",
       "2020-07-06     490\n",
       "2020-07-07     480\n",
       "Name: date, dtype: int64"
      ]
     },
     "execution_count": 7,
     "metadata": {},
     "output_type": "execute_result"
    }
   ],
   "source": [
    "counts = df['date'].value_counts()\n",
    "counts"
   ]
  },
  {
   "cell_type": "markdown",
   "id": "b7ee4f0d-43c4-4857-beba-db438af125a5",
   "metadata": {},
   "source": [
    "**The hour of the day when the users interacted with the ad**"
   ]
  },
  {
   "cell_type": "code",
   "execution_count": 8,
   "id": "821662bf-1fb1-4b88-9584-98ec8db670a7",
   "metadata": {},
   "outputs": [
    {
     "data": {
      "text/plain": [
       "15    1895\n",
       "8      394\n",
       "7      381\n",
       "9      346\n",
       "10     336\n",
       "16     335\n",
       "6      327\n",
       "14     319\n",
       "5      302\n",
       "13     290\n",
       "11     282\n",
       "4      281\n",
       "12     278\n",
       "18     273\n",
       "3      266\n",
       "20     264\n",
       "17     263\n",
       "2      230\n",
       "19     227\n",
       "1      222\n",
       "21     206\n",
       "0      194\n",
       "22     135\n",
       "23      31\n",
       "Name: hour, dtype: int64"
      ]
     },
     "execution_count": 8,
     "metadata": {},
     "output_type": "execute_result"
    }
   ],
   "source": [
    "counts = df['hour'].value_counts()\n",
    "counts"
   ]
  },
  {
   "cell_type": "markdown",
   "id": "64934230-c61a-41db-b862-fa6cce2cc5e6",
   "metadata": {},
   "source": [
    "**The device that were used by the users**"
   ]
  },
  {
   "cell_type": "code",
   "execution_count": 9,
   "id": "c943723c-4d65-4417-8456-785d54cc7234",
   "metadata": {},
   "outputs": [
    {
     "data": {
      "text/plain": [
       "Generic Smartphone    4743\n",
       "iPhone                 433\n",
       "Samsung SM-G960F       203\n",
       "Samsung SM-G973F       154\n",
       "Samsung SM-G950F       148\n",
       "                      ... \n",
       "D6503                    1\n",
       "Samsung SM-A605F         1\n",
       "Samsung SM-G900T         1\n",
       "Lumia 950                1\n",
       "Samsung SM-G930L         1\n",
       "Name: device_make, Length: 270, dtype: int64"
      ]
     },
     "execution_count": 9,
     "metadata": {},
     "output_type": "execute_result"
    }
   ],
   "source": [
    "counts = df['device_make'].value_counts()\n",
    "counts"
   ]
  },
  {
   "cell_type": "markdown",
   "id": "77f20d73-346d-49b9-8a18-7ad7a08d0e98",
   "metadata": {},
   "source": [
    "**The platform operating system used by the online users**"
   ]
  },
  {
   "cell_type": "code",
   "execution_count": 10,
   "id": "5e0b0e09-cdad-4148-8d5e-586c96adda26",
   "metadata": {},
   "outputs": [
    {
     "data": {
      "text/plain": [
       "6    7648\n",
       "5     428\n",
       "7       1\n",
       "Name: platform_os, dtype: int64"
      ]
     },
     "execution_count": 10,
     "metadata": {},
     "output_type": "execute_result"
    }
   ],
   "source": [
    "counts = df['platform_os'].value_counts()\n",
    "counts"
   ]
  },
  {
   "cell_type": "markdown",
   "id": "b3185463-3b6c-4c3c-a407-701495688072",
   "metadata": {},
   "source": [
    "**Finding the browsers used by the online users**"
   ]
  },
  {
   "cell_type": "code",
   "execution_count": 11,
   "id": "16275bda-48f5-43ff-9585-846ade1bbb7f",
   "metadata": {},
   "outputs": [
    {
     "data": {
      "text/plain": [
       "Chrome Mobile                 4554\n",
       "Chrome Mobile WebView         1489\n",
       "Samsung Internet               824\n",
       "Facebook                       764\n",
       "Mobile Safari                  337\n",
       "Chrome Mobile iOS               51\n",
       "Mobile Safari UI/WKWebView      44\n",
       "Chrome                           3\n",
       "Pinterest                        3\n",
       "Opera Mobile                     3\n",
       "Edge Mobile                      1\n",
       "Opera Mini                       1\n",
       "Android                          1\n",
       "Firefox Mobile                   1\n",
       "Puffin                           1\n",
       "Name: browser, dtype: int64"
      ]
     },
     "execution_count": 11,
     "metadata": {},
     "output_type": "execute_result"
    }
   ],
   "source": [
    "counts = df['browser'].value_counts()\n",
    "counts"
   ]
  },
  {
   "cell_type": "markdown",
   "id": "0b248211-811f-4e95-a491-3c6203778819",
   "metadata": {},
   "source": [
    "**Finding total number users that clicked 'yes' and 'no' for both control and exposed**"
   ]
  },
  {
   "cell_type": "code",
   "execution_count": 12,
   "id": "58600689-2194-4dc2-96cf-3adfbd2a19fb",
   "metadata": {},
   "outputs": [
    {
     "data": {
      "text/html": [
       "<div>\n",
       "<style scoped>\n",
       "    .dataframe tbody tr th:only-of-type {\n",
       "        vertical-align: middle;\n",
       "    }\n",
       "\n",
       "    .dataframe tbody tr th {\n",
       "        vertical-align: top;\n",
       "    }\n",
       "\n",
       "    .dataframe thead th {\n",
       "        text-align: right;\n",
       "    }\n",
       "</style>\n",
       "<table border=\"1\" class=\"dataframe\">\n",
       "  <thead>\n",
       "    <tr style=\"text-align: right;\">\n",
       "      <th>yes</th>\n",
       "      <th>0</th>\n",
       "      <th>1</th>\n",
       "    </tr>\n",
       "    <tr>\n",
       "      <th>experiment</th>\n",
       "      <th></th>\n",
       "      <th></th>\n",
       "    </tr>\n",
       "  </thead>\n",
       "  <tbody>\n",
       "    <tr>\n",
       "      <th>control</th>\n",
       "      <td>3807</td>\n",
       "      <td>264</td>\n",
       "    </tr>\n",
       "    <tr>\n",
       "      <th>exposed</th>\n",
       "      <td>3698</td>\n",
       "      <td>308</td>\n",
       "    </tr>\n",
       "  </tbody>\n",
       "</table>\n",
       "</div>"
      ],
      "text/plain": [
       "yes            0    1\n",
       "experiment           \n",
       "control     3807  264\n",
       "exposed     3698  308"
      ]
     },
     "execution_count": 12,
     "metadata": {},
     "output_type": "execute_result"
    }
   ],
   "source": [
    "pd.crosstab(df['experiment'], df['yes'])"
   ]
  },
  {
   "cell_type": "code",
   "execution_count": 13,
   "id": "dc857876-074e-45dc-b89b-44f3a9cc735c",
   "metadata": {},
   "outputs": [
    {
     "data": {
      "text/html": [
       "<div>\n",
       "<style scoped>\n",
       "    .dataframe tbody tr th:only-of-type {\n",
       "        vertical-align: middle;\n",
       "    }\n",
       "\n",
       "    .dataframe tbody tr th {\n",
       "        vertical-align: top;\n",
       "    }\n",
       "\n",
       "    .dataframe thead th {\n",
       "        text-align: right;\n",
       "    }\n",
       "</style>\n",
       "<table border=\"1\" class=\"dataframe\">\n",
       "  <thead>\n",
       "    <tr style=\"text-align: right;\">\n",
       "      <th>no</th>\n",
       "      <th>0</th>\n",
       "      <th>1</th>\n",
       "    </tr>\n",
       "    <tr>\n",
       "      <th>experiment</th>\n",
       "      <th></th>\n",
       "      <th></th>\n",
       "    </tr>\n",
       "  </thead>\n",
       "  <tbody>\n",
       "    <tr>\n",
       "      <th>control</th>\n",
       "      <td>3749</td>\n",
       "      <td>322</td>\n",
       "    </tr>\n",
       "    <tr>\n",
       "      <th>exposed</th>\n",
       "      <td>3657</td>\n",
       "      <td>349</td>\n",
       "    </tr>\n",
       "  </tbody>\n",
       "</table>\n",
       "</div>"
      ],
      "text/plain": [
       "no             0    1\n",
       "experiment           \n",
       "control     3749  322\n",
       "exposed     3657  349"
      ]
     },
     "execution_count": 13,
     "metadata": {},
     "output_type": "execute_result"
    }
   ],
   "source": [
    "pd.crosstab(df['experiment'], df['no'])"
   ]
  },
  {
   "cell_type": "code",
   "execution_count": 14,
   "id": "b8451046-bba7-4716-a10a-6dcabf4ae10f",
   "metadata": {},
   "outputs": [
    {
     "data": {
      "text/html": [
       "<style  type=\"text/css\" >\n",
       "</style><table id=\"T_5d6ca_\" ><thead>    <tr>        <th class=\"blank level0\" ></th>        <th class=\"col_heading level0 col0\" >conversion_rate</th>        <th class=\"col_heading level0 col1\" >std_deviation</th>        <th class=\"col_heading level0 col2\" >std_error</th>    </tr>    <tr>        <th class=\"index_name level0\" >experiment</th>        <th class=\"blank\" ></th>        <th class=\"blank\" ></th>        <th class=\"blank\" ></th>    </tr></thead><tbody>\n",
       "                <tr>\n",
       "                        <th id=\"T_5d6ca_level0_row0\" class=\"row_heading level0 row0\" >control</th>\n",
       "                        <td id=\"T_5d6ca_row0_col0\" class=\"data row0 col0\" >0.065</td>\n",
       "                        <td id=\"T_5d6ca_row0_col1\" class=\"data row0 col1\" >0.246</td>\n",
       "                        <td id=\"T_5d6ca_row0_col2\" class=\"data row0 col2\" >0.004</td>\n",
       "            </tr>\n",
       "            <tr>\n",
       "                        <th id=\"T_5d6ca_level0_row1\" class=\"row_heading level0 row1\" >exposed</th>\n",
       "                        <td id=\"T_5d6ca_row1_col0\" class=\"data row1 col0\" >0.077</td>\n",
       "                        <td id=\"T_5d6ca_row1_col1\" class=\"data row1 col1\" >0.266</td>\n",
       "                        <td id=\"T_5d6ca_row1_col2\" class=\"data row1 col2\" >0.004</td>\n",
       "            </tr>\n",
       "    </tbody></table>"
      ],
      "text/plain": [
       "<pandas.io.formats.style.Styler at 0x7ff9f329e220>"
      ]
     },
     "execution_count": 14,
     "metadata": {},
     "output_type": "execute_result"
    }
   ],
   "source": [
    "import scipy.stats as stats\n",
    "\n",
    "conversion_rates = df.groupby('experiment')['yes']\n",
    "\n",
    "std_p = lambda x: np.std(x, ddof=0)              # Std. deviation of the proportion\n",
    "se_p = lambda x: stats.sem(x, ddof=0)            # Std. error of the proportion (std / sqrt(n))\n",
    "\n",
    "conversion_rates = conversion_rates.agg([np.mean, std_p, se_p])\n",
    "conversion_rates.columns = ['conversion_rate', 'std_deviation', 'std_error']\n",
    "\n",
    "\n",
    "conversion_rates.style.format('{:.3f}')"
   ]
  },
  {
   "cell_type": "code",
   "execution_count": 15,
   "id": "c0b0047a-0be1-4798-a424-60e325442b66",
   "metadata": {},
   "outputs": [
    {
     "data": {
      "text/html": [
       "<style  type=\"text/css\" >\n",
       "</style><table id=\"T_97eae_\" ><thead>    <tr>        <th class=\"blank level0\" ></th>        <th class=\"col_heading level0 col0\" >conversion_rate</th>        <th class=\"col_heading level0 col1\" >std_deviation</th>        <th class=\"col_heading level0 col2\" >std_error</th>    </tr>    <tr>        <th class=\"index_name level0\" >experiment</th>        <th class=\"blank\" ></th>        <th class=\"blank\" ></th>        <th class=\"blank\" ></th>    </tr></thead><tbody>\n",
       "                <tr>\n",
       "                        <th id=\"T_97eae_level0_row0\" class=\"row_heading level0 row0\" >control</th>\n",
       "                        <td id=\"T_97eae_row0_col0\" class=\"data row0 col0\" >0.079</td>\n",
       "                        <td id=\"T_97eae_row0_col1\" class=\"data row0 col1\" >0.270</td>\n",
       "                        <td id=\"T_97eae_row0_col2\" class=\"data row0 col2\" >0.004</td>\n",
       "            </tr>\n",
       "            <tr>\n",
       "                        <th id=\"T_97eae_level0_row1\" class=\"row_heading level0 row1\" >exposed</th>\n",
       "                        <td id=\"T_97eae_row1_col0\" class=\"data row1 col0\" >0.087</td>\n",
       "                        <td id=\"T_97eae_row1_col1\" class=\"data row1 col1\" >0.282</td>\n",
       "                        <td id=\"T_97eae_row1_col2\" class=\"data row1 col2\" >0.004</td>\n",
       "            </tr>\n",
       "    </tbody></table>"
      ],
      "text/plain": [
       "<pandas.io.formats.style.Styler at 0x7ffa245346d0>"
      ]
     },
     "execution_count": 15,
     "metadata": {},
     "output_type": "execute_result"
    }
   ],
   "source": [
    "conversion_rates = df.groupby('experiment')['no']\n",
    "\n",
    "std_p = lambda x: np.std(x, ddof=0)              # Std. deviation of the proportion\n",
    "se_p = lambda x: stats.sem(x, ddof=0)            # Std. error of the proportion (std / sqrt(n))\n",
    "\n",
    "conversion_rates = conversion_rates.agg([np.mean, std_p, se_p])\n",
    "conversion_rates.columns = ['conversion_rate', 'std_deviation', 'std_error']\n",
    "\n",
    "\n",
    "conversion_rates.style.format('{:.3f}')"
   ]
  },
  {
   "cell_type": "markdown",
   "id": "53088339-e2e2-49ce-a34d-d0b888a3d0bc",
   "metadata": {},
   "source": [
    "**DATA VISUALIZATION**"
   ]
  },
  {
   "cell_type": "markdown",
   "id": "f4ccbf52-26d2-4bc2-939a-0342d335fba8",
   "metadata": {},
   "source": [
    "**Plot for experiment with 'yes'**\n"
   ]
  },
  {
   "cell_type": "code",
   "execution_count": 16,
   "id": "09c712a8-57bf-430c-a343-730779bb32ea",
   "metadata": {},
   "outputs": [
    {
     "data": {
      "text/plain": [
       "<AxesSubplot:xlabel='experiment', ylabel='yes'>"
      ]
     },
     "execution_count": 16,
     "metadata": {},
     "output_type": "execute_result"
    },
    {
     "data": {
      "image/png": "[encoded data removed]",
      "text/plain": [
       "<Figure size 432x288 with 1 Axes>"
      ]
     },
     "metadata": {
      "needs_background": "light"
     },
     "output_type": "display_data"
    }
   ],
   "source": [
    "sns.barplot(x=df['experiment'], y=df['yes'], ci=False)"
   ]
  },
  {
   "cell_type": "markdown",
   "id": "d074b49e-29ff-4811-8ac5-aebfd04f72d1",
   "metadata": {},
   "source": [
    "**Plot for experiment with 'no'**"
   ]
  },
  {
   "cell_type": "code",
   "execution_count": 17,
   "id": "0f92d519-9ea0-48b7-883f-1c170c577f60",
   "metadata": {},
   "outputs": [
    {
     "data": {
      "text/plain": [
       "<AxesSubplot:xlabel='experiment', ylabel='no'>"
      ]
     },
     "execution_count": 17,
     "metadata": {},
     "output_type": "execute_result"
    },
    {
     "data": {
      "image/png": "[encoded data removed]",
      "text/plain": [
       "<Figure size 432x288 with 1 Axes>"
      ]
     },
     "metadata": {
      "needs_background": "light"
     },
     "output_type": "display_data"
    }
   ],
   "source": [
    "sns.barplot(x=df['experiment'], y=df['no'], ci=False)"
   ]
  },
  {
   "cell_type": "markdown",
   "id": "7c0187bb-d521-4e36-a8ad-3a5651d32ff3",
   "metadata": {},
   "source": [
    "**Plot for the experiment and the hour of the day**"
   ]
  },
  {
   "cell_type": "code",
   "execution_count": 18,
   "id": "79c0a87a-64d6-404f-8258-82b1815b1037",
   "metadata": {},
   "outputs": [],
   "source": [
    "df['date'] = pd.to_datetime(df['date'])\n",
    "\n",
    "df['day of week'] = df['date'].dt.day_name()"
   ]
  },
  {
   "cell_type": "code",
   "execution_count": 19,
   "id": "6a489ec0-5df4-4a3c-ac3b-2bed7c48ec85",
   "metadata": {},
   "outputs": [
    {
     "data": {
      "image/png": "[encoded data removed]",
      "text/plain": [
       "<Figure size 576x432 with 1 Axes>"
      ]
     },
     "metadata": {
      "needs_background": "light"
     },
     "output_type": "display_data"
    }
   ],
   "source": [
    "plt.figure(figsize=(8,6))\n",
    "\n",
    "sns.barplot(x=df['hour'], y=df['day of week'], ci=False)\n",
    "\n",
    "plt.title('Experiment By Hour per Day', pad=20)\n",
    "plt.xlabel('Hour')\n",
    "plt.ylabel('Day of the Week');"
   ]
  },
  {
   "cell_type": "code",
   "execution_count": 20,
   "id": "5edc136d-7016-4104-b384-b0fd34767c3f",
   "metadata": {},
   "outputs": [
    {
     "data": {
      "image/png": "[encoded data removed]",
      "text/plain": [
       "<Figure size 576x432 with 1 Axes>"
      ]
     },
     "metadata": {
      "needs_background": "light"
     },
     "output_type": "display_data"
    }
   ],
   "source": [
    "plt.figure(figsize=(8,6))\n",
    "\n",
    "sns.barplot(x=df['experiment'], y=df['platform_os'], ci=False)\n",
    "\n",
    "plt.title('Experiment By Hour per Group', pad=20)\n",
    "plt.xlabel('Experiment')\n",
    "plt.ylabel('platform');"
   ]
  },
  {
   "cell_type": "code",
   "execution_count": 21,
   "id": "e4545ba0-d714-4df6-a3f3-0ce5253fff88",
   "metadata": {},
   "outputs": [
    {
     "data": {
      "text/plain": [
       "270"
      ]
     },
     "execution_count": 21,
     "metadata": {},
     "output_type": "execute_result"
    }
   ],
   "source": [
    "len(df['device_make'].unique().tolist())"
   ]
  },
  {
   "cell_type": "code",
   "execution_count": 22,
   "id": "8c3a5b9a-4759-4b3e-ac43-3ef6f8478611",
   "metadata": {},
   "outputs": [],
   "source": [
    "from statsmodels.stats.proportion import proportions_ztest, proportion_confint"
   ]
  },
  {
   "cell_type": "code",
   "execution_count": 25,
   "id": "0084ac9b-1696-4141-bddb-71fba2023666",
   "metadata": {},
   "outputs": [
    {
     "data": {
      "text/html": [
       "<div>\n",
       "<style scoped>\n",
       "    .dataframe tbody tr th:only-of-type {\n",
       "        vertical-align: middle;\n",
       "    }\n",
       "\n",
       "    .dataframe tbody tr th {\n",
       "        vertical-align: top;\n",
       "    }\n",
       "\n",
       "    .dataframe thead th {\n",
       "        text-align: right;\n",
       "    }\n",
       "</style>\n",
       "<table border=\"1\" class=\"dataframe\">\n",
       "  <thead>\n",
       "    <tr style=\"text-align: right;\">\n",
       "      <th></th>\n",
       "      <th>auction_id</th>\n",
       "      <th>experiment</th>\n",
       "      <th>date</th>\n",
       "      <th>hour</th>\n",
       "      <th>device_make</th>\n",
       "      <th>platform_os</th>\n",
       "      <th>browser</th>\n",
       "      <th>brand_awareness</th>\n",
       "      <th>day of week</th>\n",
       "    </tr>\n",
       "  </thead>\n",
       "  <tbody>\n",
       "    <tr>\n",
       "      <th>16</th>\n",
       "      <td>008aafdf-deef-4482-8fec-d98e3da054da</td>\n",
       "      <td>exposed</td>\n",
       "      <td>2020-07-04</td>\n",
       "      <td>16</td>\n",
       "      <td>Generic Smartphone</td>\n",
       "      <td>6</td>\n",
       "      <td>Chrome Mobile</td>\n",
       "      <td>1</td>\n",
       "      <td>Saturday</td>\n",
       "    </tr>\n",
       "    <tr>\n",
       "      <th>23</th>\n",
       "      <td>00b6fadb-10bd-49e3-a778-290da82f7a8d</td>\n",
       "      <td>control</td>\n",
       "      <td>2020-07-08</td>\n",
       "      <td>4</td>\n",
       "      <td>Samsung SM-A202F</td>\n",
       "      <td>6</td>\n",
       "      <td>Facebook</td>\n",
       "      <td>1</td>\n",
       "      <td>Wednesday</td>\n",
       "    </tr>\n",
       "    <tr>\n",
       "      <th>45</th>\n",
       "      <td>018af862-486e-4da1-a85b-71872120e57c</td>\n",
       "      <td>control</td>\n",
       "      <td>2020-07-03</td>\n",
       "      <td>15</td>\n",
       "      <td>Generic Smartphone</td>\n",
       "      <td>6</td>\n",
       "      <td>Chrome Mobile</td>\n",
       "      <td>1</td>\n",
       "      <td>Friday</td>\n",
       "    </tr>\n",
       "    <tr>\n",
       "      <th>65</th>\n",
       "      <td>023ec7b5-cb8f-49a5-995f-e0d7c2f702e5</td>\n",
       "      <td>exposed</td>\n",
       "      <td>2020-07-09</td>\n",
       "      <td>13</td>\n",
       "      <td>Samsung SM-G935F</td>\n",
       "      <td>6</td>\n",
       "      <td>Facebook</td>\n",
       "      <td>1</td>\n",
       "      <td>Thursday</td>\n",
       "    </tr>\n",
       "    <tr>\n",
       "      <th>89</th>\n",
       "      <td>02efdb70-8596-4f3f-b0b2-b91e194f61f7</td>\n",
       "      <td>exposed</td>\n",
       "      <td>2020-07-05</td>\n",
       "      <td>6</td>\n",
       "      <td>Generic Smartphone</td>\n",
       "      <td>6</td>\n",
       "      <td>Chrome Mobile</td>\n",
       "      <td>1</td>\n",
       "      <td>Sunday</td>\n",
       "    </tr>\n",
       "    <tr>\n",
       "      <th>...</th>\n",
       "      <td>...</td>\n",
       "      <td>...</td>\n",
       "      <td>...</td>\n",
       "      <td>...</td>\n",
       "      <td>...</td>\n",
       "      <td>...</td>\n",
       "      <td>...</td>\n",
       "      <td>...</td>\n",
       "      <td>...</td>\n",
       "    </tr>\n",
       "    <tr>\n",
       "      <th>8031</th>\n",
       "      <td>fe42a3c3-3e1e-40c9-b029-6b0ee9702aaa</td>\n",
       "      <td>control</td>\n",
       "      <td>2020-07-10</td>\n",
       "      <td>1</td>\n",
       "      <td>Generic Smartphone</td>\n",
       "      <td>6</td>\n",
       "      <td>Chrome Mobile</td>\n",
       "      <td>1</td>\n",
       "      <td>Friday</td>\n",
       "    </tr>\n",
       "    <tr>\n",
       "      <th>8042</th>\n",
       "      <td>fee7da61-84fe-451b-95f4-ba2523fa987d</td>\n",
       "      <td>exposed</td>\n",
       "      <td>2020-07-09</td>\n",
       "      <td>14</td>\n",
       "      <td>Generic Smartphone</td>\n",
       "      <td>6</td>\n",
       "      <td>Chrome Mobile</td>\n",
       "      <td>1</td>\n",
       "      <td>Thursday</td>\n",
       "    </tr>\n",
       "    <tr>\n",
       "      <th>8054</th>\n",
       "      <td>ff82e341-b72c-4531-b87e-1e11dc35d3fc</td>\n",
       "      <td>exposed</td>\n",
       "      <td>2020-07-10</td>\n",
       "      <td>8</td>\n",
       "      <td>Samsung SM-G973F</td>\n",
       "      <td>6</td>\n",
       "      <td>Samsung Internet</td>\n",
       "      <td>1</td>\n",
       "      <td>Friday</td>\n",
       "    </tr>\n",
       "    <tr>\n",
       "      <th>8059</th>\n",
       "      <td>ffa08ff9-a132-4051-aef5-01a9c79367bc</td>\n",
       "      <td>exposed</td>\n",
       "      <td>2020-07-05</td>\n",
       "      <td>21</td>\n",
       "      <td>Generic Smartphone</td>\n",
       "      <td>6</td>\n",
       "      <td>Chrome Mobile</td>\n",
       "      <td>1</td>\n",
       "      <td>Sunday</td>\n",
       "    </tr>\n",
       "    <tr>\n",
       "      <th>8063</th>\n",
       "      <td>ffb176df-ecd2-45d3-b05f-05b173a093a7</td>\n",
       "      <td>exposed</td>\n",
       "      <td>2020-07-04</td>\n",
       "      <td>1</td>\n",
       "      <td>Generic Smartphone</td>\n",
       "      <td>6</td>\n",
       "      <td>Chrome Mobile</td>\n",
       "      <td>1</td>\n",
       "      <td>Saturday</td>\n",
       "    </tr>\n",
       "  </tbody>\n",
       "</table>\n",
       "<p>572 rows × 9 columns</p>\n",
       "</div>"
      ],
      "text/plain": [
       "                                auction_id experiment       date  hour  \\\n",
       "16    008aafdf-deef-4482-8fec-d98e3da054da    exposed 2020-07-04    16   \n",
       "23    00b6fadb-10bd-49e3-a778-290da82f7a8d    control 2020-07-08     4   \n",
       "45    018af862-486e-4da1-a85b-71872120e57c    control 2020-07-03    15   \n",
       "65    023ec7b5-cb8f-49a5-995f-e0d7c2f702e5    exposed 2020-07-09    13   \n",
       "89    02efdb70-8596-4f3f-b0b2-b91e194f61f7    exposed 2020-07-05     6   \n",
       "...                                    ...        ...        ...   ...   \n",
       "8031  fe42a3c3-3e1e-40c9-b029-6b0ee9702aaa    control 2020-07-10     1   \n",
       "8042  fee7da61-84fe-451b-95f4-ba2523fa987d    exposed 2020-07-09    14   \n",
       "8054  ff82e341-b72c-4531-b87e-1e11dc35d3fc    exposed 2020-07-10     8   \n",
       "8059  ffa08ff9-a132-4051-aef5-01a9c79367bc    exposed 2020-07-05    21   \n",
       "8063  ffb176df-ecd2-45d3-b05f-05b173a093a7    exposed 2020-07-04     1   \n",
       "\n",
       "             device_make  platform_os           browser  brand_awareness  \\\n",
       "16    Generic Smartphone            6     Chrome Mobile                1   \n",
       "23      Samsung SM-A202F            6          Facebook                1   \n",
       "45    Generic Smartphone            6     Chrome Mobile                1   \n",
       "65      Samsung SM-G935F            6          Facebook                1   \n",
       "89    Generic Smartphone            6     Chrome Mobile                1   \n",
       "...                  ...          ...               ...              ...   \n",
       "8031  Generic Smartphone            6     Chrome Mobile                1   \n",
       "8042  Generic Smartphone            6     Chrome Mobile                1   \n",
       "8054    Samsung SM-G973F            6  Samsung Internet                1   \n",
       "8059  Generic Smartphone            6     Chrome Mobile                1   \n",
       "8063  Generic Smartphone            6     Chrome Mobile                1   \n",
       "\n",
       "     day of week  \n",
       "16      Saturday  \n",
       "23     Wednesday  \n",
       "45        Friday  \n",
       "65      Thursday  \n",
       "89        Sunday  \n",
       "...          ...  \n",
       "8031      Friday  \n",
       "8042    Thursday  \n",
       "8054      Friday  \n",
       "8059      Sunday  \n",
       "8063    Saturday  \n",
       "\n",
       "[572 rows x 9 columns]"
      ]
     },
     "execution_count": 25,
     "metadata": {},
     "output_type": "execute_result"
    }
   ],
   "source": [
    "df_yes = df[df['yes'] == 1]\n",
    "df_yes = df_yes.drop('no', axis = 1)\n",
    "df_yes = df_yes.rename(columns={\"yes\": \"brand_awareness\"})\n",
    "df_yes"
   ]
  },
  {
   "cell_type": "code",
   "execution_count": 26,
   "id": "4ac68b1e-9aaa-4750-8f0b-dfa808726744",
   "metadata": {},
   "outputs": [],
   "source": [
    "df_no = df[df['no'] == 1]\n",
    "df_no = df_no.drop('yes', axis = 1)"
   ]
  },
  {
   "cell_type": "code",
   "execution_count": 27,
   "id": "3be3f4ad-2de6-4839-b273-05405c790fc7",
   "metadata": {},
   "outputs": [],
   "source": [
    "da = {1 : 0}\n",
    "df_no = df_no.replace({'no':da})"
   ]
  },
  {
   "cell_type": "code",
   "execution_count": 29,
   "id": "3c41ab11-1b9e-4951-a157-0704a0136d10",
   "metadata": {},
   "outputs": [
    {
     "data": {
      "text/html": [
       "<div>\n",
       "<style scoped>\n",
       "    .dataframe tbody tr th:only-of-type {\n",
       "        vertical-align: middle;\n",
       "    }\n",
       "\n",
       "    .dataframe tbody tr th {\n",
       "        vertical-align: top;\n",
       "    }\n",
       "\n",
       "    .dataframe thead th {\n",
       "        text-align: right;\n",
       "    }\n",
       "</style>\n",
       "<table border=\"1\" class=\"dataframe\">\n",
       "  <thead>\n",
       "    <tr style=\"text-align: right;\">\n",
       "      <th></th>\n",
       "      <th>auction_id</th>\n",
       "      <th>experiment</th>\n",
       "      <th>date</th>\n",
       "      <th>hour</th>\n",
       "      <th>device_make</th>\n",
       "      <th>platform_os</th>\n",
       "      <th>browser</th>\n",
       "      <th>brand_awareness</th>\n",
       "      <th>day of week</th>\n",
       "    </tr>\n",
       "  </thead>\n",
       "  <tbody>\n",
       "    <tr>\n",
       "      <th>2</th>\n",
       "      <td>0016d14a-ae18-4a02-a204-6ba53b52f2ed</td>\n",
       "      <td>exposed</td>\n",
       "      <td>2020-07-05</td>\n",
       "      <td>2</td>\n",
       "      <td>E5823</td>\n",
       "      <td>6</td>\n",
       "      <td>Chrome Mobile WebView</td>\n",
       "      <td>0</td>\n",
       "      <td>Sunday</td>\n",
       "    </tr>\n",
       "    <tr>\n",
       "      <th>20</th>\n",
       "      <td>00a1384a-5118-4d1b-925b-6cdada50318d</td>\n",
       "      <td>exposed</td>\n",
       "      <td>2020-07-06</td>\n",
       "      <td>8</td>\n",
       "      <td>Generic Smartphone</td>\n",
       "      <td>6</td>\n",
       "      <td>Chrome Mobile</td>\n",
       "      <td>0</td>\n",
       "      <td>Monday</td>\n",
       "    </tr>\n",
       "    <tr>\n",
       "      <th>27</th>\n",
       "      <td>00ebf4a8-060f-4b99-93ac-c62724399483</td>\n",
       "      <td>control</td>\n",
       "      <td>2020-07-03</td>\n",
       "      <td>15</td>\n",
       "      <td>Generic Smartphone</td>\n",
       "      <td>6</td>\n",
       "      <td>Chrome Mobile</td>\n",
       "      <td>0</td>\n",
       "      <td>Friday</td>\n",
       "    </tr>\n",
       "    <tr>\n",
       "      <th>39</th>\n",
       "      <td>013e45cf-e388-46a4-9c5b-a34303613940</td>\n",
       "      <td>exposed</td>\n",
       "      <td>2020-07-10</td>\n",
       "      <td>2</td>\n",
       "      <td>Generic Smartphone</td>\n",
       "      <td>6</td>\n",
       "      <td>Chrome Mobile</td>\n",
       "      <td>0</td>\n",
       "      <td>Friday</td>\n",
       "    </tr>\n",
       "    <tr>\n",
       "      <th>46</th>\n",
       "      <td>01905bae-fc59-475e-b2b4-09b78163c961</td>\n",
       "      <td>exposed</td>\n",
       "      <td>2020-07-05</td>\n",
       "      <td>6</td>\n",
       "      <td>I3312</td>\n",
       "      <td>6</td>\n",
       "      <td>Chrome Mobile WebView</td>\n",
       "      <td>0</td>\n",
       "      <td>Sunday</td>\n",
       "    </tr>\n",
       "    <tr>\n",
       "      <th>...</th>\n",
       "      <td>...</td>\n",
       "      <td>...</td>\n",
       "      <td>...</td>\n",
       "      <td>...</td>\n",
       "      <td>...</td>\n",
       "      <td>...</td>\n",
       "      <td>...</td>\n",
       "      <td>...</td>\n",
       "      <td>...</td>\n",
       "    </tr>\n",
       "    <tr>\n",
       "      <th>8016</th>\n",
       "      <td>fd86fc6b-3420-4f81-9df0-98fa1f15abf5</td>\n",
       "      <td>exposed</td>\n",
       "      <td>2020-07-08</td>\n",
       "      <td>17</td>\n",
       "      <td>Samsung SM-G965F</td>\n",
       "      <td>6</td>\n",
       "      <td>Facebook</td>\n",
       "      <td>0</td>\n",
       "      <td>Wednesday</td>\n",
       "    </tr>\n",
       "    <tr>\n",
       "      <th>8058</th>\n",
       "      <td>ff95df43-63b4-48c8-8497-781ba7952eec</td>\n",
       "      <td>exposed</td>\n",
       "      <td>2020-07-09</td>\n",
       "      <td>18</td>\n",
       "      <td>Generic Smartphone</td>\n",
       "      <td>6</td>\n",
       "      <td>Chrome Mobile</td>\n",
       "      <td>0</td>\n",
       "      <td>Thursday</td>\n",
       "    </tr>\n",
       "    <tr>\n",
       "      <th>8064</th>\n",
       "      <td>ffb79718-6f25-4896-b6b3-e58b80a6e147</td>\n",
       "      <td>control</td>\n",
       "      <td>2020-07-09</td>\n",
       "      <td>7</td>\n",
       "      <td>Generic Smartphone</td>\n",
       "      <td>6</td>\n",
       "      <td>Chrome Mobile</td>\n",
       "      <td>0</td>\n",
       "      <td>Thursday</td>\n",
       "    </tr>\n",
       "    <tr>\n",
       "      <th>8069</th>\n",
       "      <td>ffca1153-c182-4f32-9e90-2a6008417497</td>\n",
       "      <td>control</td>\n",
       "      <td>2020-07-10</td>\n",
       "      <td>16</td>\n",
       "      <td>Generic Smartphone</td>\n",
       "      <td>6</td>\n",
       "      <td>Chrome Mobile</td>\n",
       "      <td>0</td>\n",
       "      <td>Friday</td>\n",
       "    </tr>\n",
       "    <tr>\n",
       "      <th>8071</th>\n",
       "      <td>ffdfdc09-48c7-4bfb-80f8-ec1eb633602b</td>\n",
       "      <td>exposed</td>\n",
       "      <td>2020-07-03</td>\n",
       "      <td>4</td>\n",
       "      <td>Generic Smartphone</td>\n",
       "      <td>6</td>\n",
       "      <td>Chrome Mobile</td>\n",
       "      <td>0</td>\n",
       "      <td>Friday</td>\n",
       "    </tr>\n",
       "  </tbody>\n",
       "</table>\n",
       "<p>671 rows × 9 columns</p>\n",
       "</div>"
      ],
      "text/plain": [
       "                                auction_id experiment       date  hour  \\\n",
       "2     0016d14a-ae18-4a02-a204-6ba53b52f2ed    exposed 2020-07-05     2   \n",
       "20    00a1384a-5118-4d1b-925b-6cdada50318d    exposed 2020-07-06     8   \n",
       "27    00ebf4a8-060f-4b99-93ac-c62724399483    control 2020-07-03    15   \n",
       "39    013e45cf-e388-46a4-9c5b-a34303613940    exposed 2020-07-10     2   \n",
       "46    01905bae-fc59-475e-b2b4-09b78163c961    exposed 2020-07-05     6   \n",
       "...                                    ...        ...        ...   ...   \n",
       "8016  fd86fc6b-3420-4f81-9df0-98fa1f15abf5    exposed 2020-07-08    17   \n",
       "8058  ff95df43-63b4-48c8-8497-781ba7952eec    exposed 2020-07-09    18   \n",
       "8064  ffb79718-6f25-4896-b6b3-e58b80a6e147    control 2020-07-09     7   \n",
       "8069  ffca1153-c182-4f32-9e90-2a6008417497    control 2020-07-10    16   \n",
       "8071  ffdfdc09-48c7-4bfb-80f8-ec1eb633602b    exposed 2020-07-03     4   \n",
       "\n",
       "             device_make  platform_os                browser  brand_awareness  \\\n",
       "2                  E5823            6  Chrome Mobile WebView                0   \n",
       "20    Generic Smartphone            6          Chrome Mobile                0   \n",
       "27    Generic Smartphone            6          Chrome Mobile                0   \n",
       "39    Generic Smartphone            6          Chrome Mobile                0   \n",
       "46                 I3312            6  Chrome Mobile WebView                0   \n",
       "...                  ...          ...                    ...              ...   \n",
       "8016    Samsung SM-G965F            6               Facebook                0   \n",
       "8058  Generic Smartphone            6          Chrome Mobile                0   \n",
       "8064  Generic Smartphone            6          Chrome Mobile                0   \n",
       "8069  Generic Smartphone            6          Chrome Mobile                0   \n",
       "8071  Generic Smartphone            6          Chrome Mobile                0   \n",
       "\n",
       "     day of week  \n",
       "2         Sunday  \n",
       "20        Monday  \n",
       "27        Friday  \n",
       "39        Friday  \n",
       "46        Sunday  \n",
       "...          ...  \n",
       "8016   Wednesday  \n",
       "8058    Thursday  \n",
       "8064    Thursday  \n",
       "8069      Friday  \n",
       "8071      Friday  \n",
       "\n",
       "[671 rows x 9 columns]"
      ]
     },
     "execution_count": 29,
     "metadata": {},
     "output_type": "execute_result"
    }
   ],
   "source": [
    "df_no = df_no.rename(columns={\"no\": \"brand_awareness\"})\n",
    "df_no"
   ]
  },
  {
   "cell_type": "code",
   "execution_count": 31,
   "id": "42e193a6-5622-4e40-b0b3-9e085e3bce90",
   "metadata": {},
   "outputs": [],
   "source": [
    "df_clean = pd.concat([df_yes, df_no], axis = 0)"
   ]
  },
  {
   "cell_type": "code",
   "execution_count": 32,
   "id": "578e6c20-f582-41c4-afd0-9780f4719495",
   "metadata": {},
   "outputs": [],
   "source": [
    "df_clean = df_clean.sample(frac=1).reset_index(drop=True)"
   ]
  },
  {
   "cell_type": "code",
   "execution_count": 34,
   "id": "666468bf-d050-47c4-85f8-9b799946a293",
   "metadata": {},
   "outputs": [
    {
     "data": {
      "text/html": [
       "<div>\n",
       "<style scoped>\n",
       "    .dataframe tbody tr th:only-of-type {\n",
       "        vertical-align: middle;\n",
       "    }\n",
       "\n",
       "    .dataframe tbody tr th {\n",
       "        vertical-align: top;\n",
       "    }\n",
       "\n",
       "    .dataframe thead th {\n",
       "        text-align: right;\n",
       "    }\n",
       "</style>\n",
       "<table border=\"1\" class=\"dataframe\">\n",
       "  <thead>\n",
       "    <tr style=\"text-align: right;\">\n",
       "      <th></th>\n",
       "      <th>brand_awareness</th>\n",
       "      <th>total</th>\n",
       "      <th>rate</th>\n",
       "    </tr>\n",
       "    <tr>\n",
       "      <th>experiment</th>\n",
       "      <th></th>\n",
       "      <th></th>\n",
       "      <th></th>\n",
       "    </tr>\n",
       "  </thead>\n",
       "  <tbody>\n",
       "    <tr>\n",
       "      <th>control</th>\n",
       "      <td>264</td>\n",
       "      <td>586</td>\n",
       "      <td>0.450512</td>\n",
       "    </tr>\n",
       "    <tr>\n",
       "      <th>exposed</th>\n",
       "      <td>308</td>\n",
       "      <td>657</td>\n",
       "      <td>0.468798</td>\n",
       "    </tr>\n",
       "  </tbody>\n",
       "</table>\n",
       "</div>"
      ],
      "text/plain": [
       "            brand_awareness  total      rate\n",
       "experiment                                  \n",
       "control                 264    586  0.450512\n",
       "exposed                 308    657  0.468798"
      ]
     },
     "execution_count": 34,
     "metadata": {},
     "output_type": "execute_result"
    }
   ],
   "source": [
    "ab_summary = df_clean.pivot_table(values='brand_awareness', index='experiment', aggfunc=np.sum)\n",
    "# add additional columns to the pivot table\n",
    "ab_summary['total'] = df_clean.pivot_table(values='brand_awareness', index='experiment', aggfunc=lambda x: len(x))\n",
    "ab_summary['rate'] = df_clean.pivot_table(values='brand_awareness', index='experiment')\n",
    "ab_summary"
   ]
  },
  {
   "cell_type": "markdown",
   "id": "7c0fdff7-ead0-4ccc-b2c4-b8be5254fb90",
   "metadata": {},
   "source": [
    "There is a small difference between the two groups. The margins is approximately 0.02"
   ]
  },
  {
   "cell_type": "code",
   "execution_count": 35,
   "id": "f5d3851a-5536-41ce-a936-2456f2db1b89",
   "metadata": {},
   "outputs": [],
   "source": [
    "control_aware = ab_summary.brand_awareness[0] #A_converted\n",
    "control_total = ab_summary.total[0] #A_total\n",
    "\n",
    "control_rate = ab_summary.rate[0]\n",
    "exposed_rate = ab_summary.rate[1]\n",
    "\n",
    "exposed_aware = ab_summary.brand_awareness[1] #B_converted\n",
    "exposed_total = ab_summary.total[1] #B_total"
   ]
  },
  {
   "cell_type": "code",
   "execution_count": 36,
   "id": "90dbeea1-abc8-48c3-b23c-d5ead8e3435c",
   "metadata": {},
   "outputs": [
    {
     "data": {
      "text/plain": [
       "Text(0, 0.5, 'probability')"
      ]
     },
     "execution_count": 36,
     "metadata": {},
     "output_type": "execute_result"
    },
    {
     "data": {
      "image/png": "[encoded data removed]",
      "text/plain": [
       "<Figure size 864x432 with 1 Axes>"
      ]
     },
     "metadata": {
      "needs_background": "light"
     },
     "output_type": "display_data"
    }
   ],
   "source": [
    "\n",
    "import scipy.stats as scs\n",
    "\n",
    "fig, ax = plt.subplots(figsize=(12,6))\n",
    "x = np.linspace(control_aware-49, control_aware+50, 100)\n",
    "y = scs.binom(control_total, control_rate).pmf(x)\n",
    "ax.bar(x, y, alpha=0.5)\n",
    "ax.axvline(x=exposed_rate * control_total, c='red', alpha=0.75, linestyle='--')\n",
    "plt.xlabel('Awareness')\n",
    "plt.ylabel('probability')"
   ]
  },
  {
   "cell_type": "markdown",
   "id": "80601315-29c3-43da-b9f4-7d2d9fd6bd21",
   "metadata": {},
   "source": [
    "The probability of getting control group is slightly higher"
   ]
  },
  {
   "cell_type": "code",
   "execution_count": 37,
   "id": "c4533d19-d0dc-4e4b-8a95-f0114ccb3756",
   "metadata": {},
   "outputs": [
    {
     "data": {
      "text/plain": [
       "Text(0, 0.5, 'probability')"
      ]
     },
     "execution_count": 37,
     "metadata": {},
     "output_type": "execute_result"
    },
    {
     "data": {
      "image/png": "[encoded data removed]",
      "text/plain": [
       "<Figure size 864x432 with 1 Axes>"
      ]
     },
     "metadata": {
      "needs_background": "light"
     },
     "output_type": "display_data"
    }
   ],
   "source": [
    "fig, ax = plt.subplots(figsize=(12,6))\n",
    "xA = np.linspace(control_aware-49, control_aware+50, 100)\n",
    "yA = scs.binom(control_total, control_rate).pmf(xA)\n",
    "ax.bar(xA, yA, alpha=0.5)\n",
    "xB = np.linspace(exposed_aware-49, exposed_aware+50, 100)\n",
    "yB = scs.binom(exposed_total, exposed_rate).pmf(xB)\n",
    "ax.bar(xB, yB, alpha=0.5)\n",
    "plt.xlabel('Awareness')\n",
    "plt.ylabel('probability')"
   ]
  },
  {
   "cell_type": "markdown",
   "id": "54da2224-cdb3-4d60-92f8-91614bb26d1a",
   "metadata": {},
   "source": [
    "As far as the the awareness of the brand is concern, the two groups have almost the same rate. Nevertheless, the exposed group (orange) seem to be more aware of the brand than the control group."
   ]
  },
  {
   "cell_type": "code",
   "execution_count": 38,
   "id": "33538ae1-51c3-4650-b4cc-1f6aa651789f",
   "metadata": {},
   "outputs": [],
   "source": [
    "from statsmodels.stats.proportion import proportions_ztest, proportion_confint\n",
    "\n",
    "control_results = df_clean[df_clean['experiment'] == 'control']['brand_awareness']\n",
    "exposed_results = df_clean[df_clean['experiment'] == 'exposed']['brand_awareness']"
   ]
  },
  {
   "cell_type": "code",
   "execution_count": 39,
   "id": "623eb3f9-db1b-4698-82b6-137362ea5996",
   "metadata": {},
   "outputs": [
    {
     "name": "stdout",
     "output_type": "stream",
     "text": [
      "z statistic: -0.65\n",
      "p-value: 0.518\n",
      "ci 95% for control group: [0.410, 0.491]\n",
      "ci 95% for exposed group: [0.431, 0.507]\n"
     ]
    }
   ],
   "source": [
    "n_con = control_results.count()\n",
    "n_expo = exposed_results.count()\n",
    "successes = [control_results.sum(), exposed_results.sum()]\n",
    "nobs = [n_con, n_expo]\n",
    "\n",
    "z_stat, pval = proportions_ztest(successes, nobs=nobs)\n",
    "(lower_con, lower_treat), (upper_con, upper_treat) = proportion_confint(successes, nobs=nobs, alpha=0.05)\n",
    "\n",
    "print(f'z statistic: {z_stat:.2f}')\n",
    "print(f'p-value: {pval:.3f}')\n",
    "print(f'ci 95% for control group: [{lower_con:.3f}, {upper_con:.3f}]')\n",
    "print(f'ci 95% for exposed group: [{lower_treat:.3f}, {upper_treat:.3f}]')"
   ]
  },
  {
   "cell_type": "markdown",
   "id": "89a113b5-6850-43d5-8403-1c8b9d821b54",
   "metadata": {},
   "source": [
    "The p-value is 0.518, meaning that there is no difference in brand awareness between the exposed and control groups in the current case."
   ]
  },
  {
   "cell_type": "code",
   "execution_count": 40,
   "id": "86869926-7c1b-4f3d-b618-edd04afa66ca",
   "metadata": {},
   "outputs": [
    {
     "data": {
      "image/png": "[encoded data removed]",
      "text/plain": [
       "<Figure size 576x432 with 1 Axes>"
      ]
     },
     "metadata": {
      "needs_background": "light"
     },
     "output_type": "display_data"
    }
   ],
   "source": [
    "plt.figure(figsize=(8,6))\n",
    "\n",
    "sns.barplot(x=df_clean['hour'], y=df_clean['day of week'], ci=False)\n",
    "\n",
    "plt.title('Experiment By Hour per Day', pad=20)\n",
    "plt.xlabel('Hour')\n",
    "plt.ylabel('Day of the Week');"
   ]
  },
  {
   "cell_type": "code",
   "execution_count": 41,
   "id": "a8b289ef-3a0a-4eb2-a60f-fc4b976a41e0",
   "metadata": {},
   "outputs": [
    {
     "data": {
      "image/png": "[encoded data removed]",
      "text/plain": [
       "<Figure size 576x432 with 1 Axes>"
      ]
     },
     "metadata": {
      "needs_background": "light"
     },
     "output_type": "display_data"
    }
   ],
   "source": [
    "plt.figure(figsize=(8,6))\n",
    "\n",
    "sns.barplot(x=df_clean['experiment'], y=df_clean['hour'], ci=False)\n",
    "\n",
    "plt.title('Experiment By Hour', pad=20)\n",
    "plt.xlabel('Experiment Group')\n",
    "plt.ylabel('Converted (proportion)');"
   ]
  },
  {
   "cell_type": "code",
   "execution_count": null,
   "id": "1ddf9c3a-10d6-4044-a651-b230a78cac9c",
   "metadata": {},
   "outputs": [],
   "source": []
  }
 ],
 "metadata": {
  "kernelspec": {
   "display_name": "Python 3",
   "language": "python",
   "name": "python3"
  },
  "language_info": {
   "codemirror_mode": {
    "name": "ipython",
    "version": 3
   },
   "file_extension": ".py",
   "mimetype": "text/x-python",
   "name": "python",
   "nbconvert_exporter": "python",
   "pygments_lexer": "ipython3",
   "version": "3.8.8"
  }
 },
 "nbformat": 4,
 "nbformat_minor": 5
}
